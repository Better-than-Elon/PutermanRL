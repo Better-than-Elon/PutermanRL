{
 "cells": [
  {
   "cell_type": "code",
   "execution_count": 1,
   "id": "8559c618-08fb-48e2-9d25-bdb31cb11580",
   "metadata": {},
   "outputs": [
    {
     "name": "stderr",
     "output_type": "stream",
     "text": [
      "/home/arkadiy/.local/lib/python3.8/site-packages/torch/__init__.py:614: UserWarning: torch.set_default_tensor_type() is deprecated as of PyTorch 2.1, please use torch.set_default_dtype() and torch.set_default_device() as alternatives. (Triggered internally at ../torch/csrc/tensor/python_tensor.cpp:451.)\n",
      "  _C._set_default_tensor_type(t)\n"
     ]
    }
   ],
   "source": [
    "import psutil\n",
    "import gc\n",
    "import gym\n",
    "import dmc2gym\n",
    "import numpy as np\n",
    "import torch\n",
    "import torch.optim as optim\n",
    "from gym import spaces\n",
    "from torch.autograd import Variable\n",
    "\n",
    "import gym\n",
    "import scipy.optimize\n",
    "\n",
    "from models import *\n",
    "from replay_memory import Memory\n",
    "from running_state import ZFilter\n",
    "from trpo import trpo_step, get_trpo_tar_mean_adv, get_atrpo_tar_adv\n",
    "from utils import *\n",
    "\n",
    "from tqdm import tqdm\n",
    "import matplotlib.pyplot as plt\n",
    "\n",
    "torch.utils.backcompat.broadcast_warning.enabled = True\n",
    "torch.utils.backcompat.keepdim_warning.enabled = True\n",
    "\n",
    "torch.set_default_tensor_type('torch.DoubleTensor')"
   ]
  },
  {
   "cell_type": "code",
   "execution_count": 2,
   "id": "24b07e22-ef70-46aa-b68e-e4f8719e47ec",
   "metadata": {},
   "outputs": [],
   "source": [
    "def update_params(batch, targ_adv_fun):\n",
    "    vloss = []\n",
    "    ploss = []\n",
    "    rewards = torch.tensor(np.array(batch.reward))\n",
    "    masks = torch.tensor(np.array(batch.mask))\n",
    "    actions = torch.Tensor(np.concatenate(batch.action, 0)).detach()\n",
    "    states = torch.tensor(np.array(batch.state)).detach()\n",
    "    values = val(states)\n",
    "\n",
    "    targets, advantages = targ_adv_fun(rewards, masks, actions, values)\n",
    "\n",
    "    targets = targets.detach()\n",
    "    advantages = advantages.detach()\n",
    "\n",
    "    # Original code uses the same LBFGS to optimize the value loss\n",
    "    def get_value_loss(flat_params):\n",
    "        set_flat_params_to(val, torch.Tensor(flat_params))\n",
    "        for param in val.parameters():\n",
    "            if param.grad is not None:\n",
    "                param.grad.data.fill_(0)\n",
    "\n",
    "        value_loss = (val(states) - targets).pow(2).mean()\n",
    "        vloss.append(value_loss)\n",
    "\n",
    "        # weight decay\n",
    "        for param in val.parameters():\n",
    "            value_loss += param.pow(2).sum() * l2_reg\n",
    "        value_loss.backward()\n",
    "        return (value_loss.data.double().numpy(), get_flat_grad_from(val).data.double().numpy())\n",
    "\n",
    "    flat_params, _, opt_info = scipy.optimize.fmin_l_bfgs_b(get_value_loss, get_flat_params_from(val).double().numpy(), maxiter=40)\n",
    "    set_flat_params_to(val, torch.Tensor(flat_params))\n",
    "\n",
    "    action_means, action_log_stds, action_stds = agent(states)\n",
    "    fixed_log_prob = normal_log_density(actions, action_means, action_log_stds, action_stds).data.clone().detach()\n",
    "\n",
    "    def get_loss(volatile=False):\n",
    "        if volatile:\n",
    "            with torch.no_grad():\n",
    "                action_means, action_log_stds, action_stds = agent(states)\n",
    "        else:\n",
    "            action_means, action_log_stds, action_stds = agent(states)\n",
    "                \n",
    "        log_prob = normal_log_density(actions, action_means, action_log_stds, action_stds)\n",
    "        action_loss = -(advantages * torch.exp(log_prob - fixed_log_prob))\n",
    "        return action_loss.mean()\n",
    "\n",
    "\n",
    "    def get_kl():\n",
    "        mean1, log_std1, std1 = agent(states)\n",
    "\n",
    "        mean0 = mean1.data.detach()\n",
    "        log_std0 = log_std1.data.detach()\n",
    "        std0 = std1.data.detach()\n",
    "        kl = log_std1 - log_std0 + (std0.pow(2) + (mean0 - mean1).pow(2)) / (2.0 * std1.pow(2)) - 0.5\n",
    "        return kl.sum(1, keepdim=True)\n",
    "\n",
    "    policy_loss = trpo_step(agent, get_loss, get_kl, max_kl, damping)\n",
    "    ploss.append(policy_loss)\n",
    "    return vloss, ploss, advantages\n"
   ]
  },
  {
   "cell_type": "code",
   "execution_count": 3,
   "id": "4a7a8cd0-7433-4df5-b61e-47266df9d564",
   "metadata": {},
   "outputs": [],
   "source": [
    "domain_name = 'cartpole'\n",
    "task_name = 'balance'\n",
    "model_file = f'data/models/{domain_name}_{task_name}'\n",
    "seed = 1597\n",
    "l2_reg = 1e-2\n",
    "max_kl = 0.01#1e-2\n",
    "damping = 1e-1"
   ]
  },
  {
   "cell_type": "code",
   "execution_count": 4,
   "id": "d1b7278f-663d-4f64-a78b-babbb59d43db",
   "metadata": {},
   "outputs": [
    {
     "data": {
      "text/plain": [
       "<Figure size 360x216 with 0 Axes>"
      ]
     },
     "metadata": {},
     "output_type": "display_data"
    }
   ],
   "source": [
    "#get_trpo_tar_mean_adv - trpo with normed advantege\n",
    "#get_atrpo_tar_mean_adv - atrpo with normed advantege (Bad)\n",
    "#get_atrpo_tar_adv_0 - atrpo with masks\n",
    "#get_atrpo_tar_adv_1 - atrpo without masks\n",
    "\n",
    "render = False\n",
    "compare_plots = True\n",
    "plt.figure(figsize=(5,3))\n",
    "targ_adv_funs = [get_atrpo_tar_adv]#[get_atrpo_tar_adv, get_trpo_tar_mean_adv]\n",
    "\n",
    "ext_its = 1 #num of experiments\n",
    "i_episodes = 5 # number of batches in an experiment\n",
    "\n",
    "t_steps = 1000 # path len\n",
    "batch_size = 10000 # t_steps * (?)\n",
    "log_interval = max(1,-i_episodes//100)\n"
   ]
  },
  {
   "cell_type": "code",
   "execution_count": 5,
   "id": "c7b53e1e-b980-494c-b885-6524bd46487c",
   "metadata": {},
   "outputs": [],
   "source": [
    "targ_adv_funs_len = len(targ_adv_funs)\n",
    "all_acc_batch_rewards = [[] for i in range(len(targ_adv_funs))]"
   ]
  },
  {
   "cell_type": "code",
   "execution_count": 6,
   "id": "2451491d-ae5c-4fe5-9fc9-9d4a5f7b221c",
   "metadata": {},
   "outputs": [],
   "source": [
    "agent = None\n",
    "val = None"
   ]
  },
  {
   "cell_type": "code",
   "execution_count": 7,
   "id": "bb3fd9a6-704d-483f-91bc-61d7d886fb57",
   "metadata": {
    "scrolled": true,
    "tags": []
   },
   "outputs": [
    {
     "name": "stderr",
     "output_type": "stream",
     "text": [
      "  0%|                                                     | 0/1 [00:00<?, ?it/s]/home/arkadiy/.local/lib/python3.8/site-packages/gym/envs/registration.py:440: UserWarning: \u001b[33mWARN: The `registry.env_specs` property along with `EnvSpecTree` is deprecated. Please use `registry` directly as a dictionary instead.\u001b[0m\n",
      "  logger.warn(\n",
      "/home/arkadiy/.local/lib/python3.8/site-packages/dmc2gym/wrappers.py:10: DeprecationWarning: `np.int` is a deprecated alias for the builtin `int`. To silence this warning, use `int` by itself. Doing this will not modify any behavior and is safe. When replacing `np.int`, you may wish to use e.g. `np.int64` or `np.int32` to specify the precision. If you wish to review your current use, check the release note link for additional information.\n",
      "Deprecated in NumPy 1.20; for more details and guidance: https://numpy.org/devdocs/release/1.20.0-notes.html#deprecations\n",
      "  dim = np.int(np.prod(s.shape))\n",
      "/home/arkadiy/.local/lib/python3.8/site-packages/gym/core.py:317: DeprecationWarning: \u001b[33mWARN: Initializing wrapper in old step API which returns one bool instead of two. It is recommended to set `new_step_api=True` to use new step API. This will be the default behaviour in future.\u001b[0m\n",
      "  deprecation(\n",
      "/home/arkadiy/.local/lib/python3.8/site-packages/gym/wrappers/step_api_compatibility.py:39: DeprecationWarning: \u001b[33mWARN: Initializing environment in old step API which returns one bool instead of two. It is recommended to set `new_step_api=True` to use new step API. This will be the default behaviour in future.\u001b[0m\n",
      "  deprecation(\n",
      "/home/arkadiy/.local/lib/python3.8/site-packages/gym/utils/passive_env_checker.py:174: UserWarning: \u001b[33mWARN: Future gym versions will require that `Env.reset` can be passed a `seed` instead of using `Env.seed` for resetting the environment random number generator.\u001b[0m\n",
      "  logger.warn(\n",
      "/home/arkadiy/.local/lib/python3.8/site-packages/gym/utils/passive_env_checker.py:190: UserWarning: \u001b[33mWARN: Future gym versions will require that `Env.reset` can be passed `return_info` to return information from the environment resetting.\u001b[0m\n",
      "  logger.warn(\n",
      "/home/arkadiy/.local/lib/python3.8/site-packages/gym/utils/passive_env_checker.py:195: UserWarning: \u001b[33mWARN: Future gym versions will require that `Env.reset` can be passed `options` to allow the environment initialisation to be passed additional information.\u001b[0m\n",
      "  logger.warn(\n",
      "/tmp/ipykernel_23546/3710097205.py:36: UserWarning: To copy construct from a tensor, it is recommended to use sourceTensor.clone().detach() or sourceTensor.clone().detach().requires_grad_(True), rather than torch.tensor(sourceTensor).\n",
      "  cast_action = torch.tensor(action, dtype=torch.float32)\n",
      "/home/arkadiy/.local/lib/python3.8/site-packages/gym/utils/passive_env_checker.py:227: DeprecationWarning: \u001b[33mWARN: Core environment is written in old step API which returns one bool instead of two. It is recommended to rewrite the environment with new step API. \u001b[0m\n",
      "  logger.deprecation(\n"
     ]
    },
    {
     "name": "stdout",
     "output_type": "stream",
     "text": [
      "Episode 0\tFunc name: get_atrpo_tar_adv\tAverage reward 340.48, PLoss 0.00022599488337170988\t VLoss 0.060331190002194106\t Advs -0.00022599488337170926\n",
      "Episode 1\tFunc name: get_atrpo_tar_adv\tAverage reward 300.21, PLoss 0.000814933458275823\t VLoss 0.11793580863192357\t Advs -0.0008149334582758161\n",
      "Episode 2\tFunc name: get_atrpo_tar_adv\tAverage reward 257.10, PLoss 0.0015782804137635495\t VLoss 0.19526238795829645\t Advs -0.001578280413763538\n",
      "Episode 3\tFunc name: get_atrpo_tar_adv\tAverage reward 218.28, PLoss 0.002579697083208523\t VLoss 0.2703368089513469\t Advs -0.0025796970832085296\n"
     ]
    },
    {
     "name": "stderr",
     "output_type": "stream",
     "text": [
      "  0%|                                                     | 0/1 [02:22<?, ?it/s]"
     ]
    },
    {
     "name": "stdout",
     "output_type": "stream",
     "text": [
      "Episode 4\tFunc name: get_atrpo_tar_adv\tAverage reward 222.15, PLoss 0.0037418611083356867\t VLoss 0.34766928122630136\t Advs -0.003741861108335696\n",
      "Saving model: data/models/cartpole_balance_get_atrpo_tar_adv_exp0_seed1597_iter5\n"
     ]
    },
    {
     "name": "stderr",
     "output_type": "stream",
     "text": [
      "\n"
     ]
    },
    {
     "ename": "RuntimeError",
     "evalue": "Parent directory data/models does not exist.",
     "output_type": "error",
     "traceback": [
      "\u001b[0;31m---------------------------------------------------------------------------\u001b[0m",
      "\u001b[0;31mRuntimeError\u001b[0m                              Traceback (most recent call last)",
      "Input \u001b[0;32mIn [7]\u001b[0m, in \u001b[0;36m<cell line: 1>\u001b[0;34m()\u001b[0m\n\u001b[1;32m     70\u001b[0m save_file\u001b[38;5;241m=\u001b[39m\u001b[38;5;124mf\u001b[39m\u001b[38;5;124m'\u001b[39m\u001b[38;5;132;01m{\u001b[39;00mmodel_file\u001b[38;5;132;01m}\u001b[39;00m\u001b[38;5;124m_\u001b[39m\u001b[38;5;132;01m{\u001b[39;00mcur_targ_adv_func\u001b[38;5;241m.\u001b[39m\u001b[38;5;18m__name__\u001b[39m\u001b[38;5;132;01m}\u001b[39;00m\u001b[38;5;124m_exp\u001b[39m\u001b[38;5;132;01m{\u001b[39;00mcur_exp_id\u001b[38;5;132;01m}\u001b[39;00m\u001b[38;5;124m_seed\u001b[39m\u001b[38;5;132;01m{\u001b[39;00mcur_seed\u001b[38;5;132;01m}\u001b[39;00m\u001b[38;5;124m_iter\u001b[39m\u001b[38;5;132;01m{\u001b[39;00mi_episodes\u001b[38;5;132;01m}\u001b[39;00m\u001b[38;5;124m'\u001b[39m\n\u001b[1;32m     71\u001b[0m \u001b[38;5;28mprint\u001b[39m(\u001b[38;5;124m\"\u001b[39m\u001b[38;5;124mSaving model:\u001b[39m\u001b[38;5;124m\"\u001b[39m, save_file)\n\u001b[0;32m---> 72\u001b[0m \u001b[43mtorch\u001b[49m\u001b[38;5;241;43m.\u001b[39;49m\u001b[43msave\u001b[49m\u001b[43m(\u001b[49m\u001b[43magent\u001b[49m\u001b[43m,\u001b[49m\u001b[43m \u001b[49m\u001b[43msave_file\u001b[49m\u001b[38;5;241;43m+\u001b[39;49m\u001b[38;5;124;43m'\u001b[39;49m\u001b[38;5;124;43m_agent.pt\u001b[39;49m\u001b[38;5;124;43m'\u001b[39;49m\u001b[43m)\u001b[49m\n\u001b[1;32m     73\u001b[0m torch\u001b[38;5;241m.\u001b[39msave(val, save_file\u001b[38;5;241m+\u001b[39m\u001b[38;5;124m'\u001b[39m\u001b[38;5;124m_value.pt\u001b[39m\u001b[38;5;124m'\u001b[39m)\n\u001b[1;32m     75\u001b[0m plt\u001b[38;5;241m.\u001b[39mtitle(cur_targ_adv_func\u001b[38;5;241m.\u001b[39m\u001b[38;5;18m__name__\u001b[39m)\n",
      "File \u001b[0;32m~/.local/lib/python3.8/site-packages/torch/serialization.py:618\u001b[0m, in \u001b[0;36msave\u001b[0;34m(obj, f, pickle_module, pickle_protocol, _use_new_zipfile_serialization, _disable_byteorder_record)\u001b[0m\n\u001b[1;32m    615\u001b[0m _check_save_filelike(f)\n\u001b[1;32m    617\u001b[0m \u001b[38;5;28;01mif\u001b[39;00m _use_new_zipfile_serialization:\n\u001b[0;32m--> 618\u001b[0m     \u001b[38;5;28;01mwith\u001b[39;00m \u001b[43m_open_zipfile_writer\u001b[49m\u001b[43m(\u001b[49m\u001b[43mf\u001b[49m\u001b[43m)\u001b[49m \u001b[38;5;28;01mas\u001b[39;00m opened_zipfile:\n\u001b[1;32m    619\u001b[0m         _save(obj, opened_zipfile, pickle_module, pickle_protocol, _disable_byteorder_record)\n\u001b[1;32m    620\u001b[0m         \u001b[38;5;28;01mreturn\u001b[39;00m\n",
      "File \u001b[0;32m~/.local/lib/python3.8/site-packages/torch/serialization.py:492\u001b[0m, in \u001b[0;36m_open_zipfile_writer\u001b[0;34m(name_or_buffer)\u001b[0m\n\u001b[1;32m    490\u001b[0m \u001b[38;5;28;01melse\u001b[39;00m:\n\u001b[1;32m    491\u001b[0m     container \u001b[38;5;241m=\u001b[39m _open_zipfile_writer_buffer\n\u001b[0;32m--> 492\u001b[0m \u001b[38;5;28;01mreturn\u001b[39;00m \u001b[43mcontainer\u001b[49m\u001b[43m(\u001b[49m\u001b[43mname_or_buffer\u001b[49m\u001b[43m)\u001b[49m\n",
      "File \u001b[0;32m~/.local/lib/python3.8/site-packages/torch/serialization.py:463\u001b[0m, in \u001b[0;36m_open_zipfile_writer_file.__init__\u001b[0;34m(self, name)\u001b[0m\n\u001b[1;32m    461\u001b[0m     \u001b[38;5;28msuper\u001b[39m()\u001b[38;5;241m.\u001b[39m\u001b[38;5;21m__init__\u001b[39m(torch\u001b[38;5;241m.\u001b[39m_C\u001b[38;5;241m.\u001b[39mPyTorchFileWriter(\u001b[38;5;28mself\u001b[39m\u001b[38;5;241m.\u001b[39mfile_stream))\n\u001b[1;32m    462\u001b[0m \u001b[38;5;28;01melse\u001b[39;00m:\n\u001b[0;32m--> 463\u001b[0m     \u001b[38;5;28msuper\u001b[39m()\u001b[38;5;241m.\u001b[39m\u001b[38;5;21m__init__\u001b[39m(\u001b[43mtorch\u001b[49m\u001b[38;5;241;43m.\u001b[39;49m\u001b[43m_C\u001b[49m\u001b[38;5;241;43m.\u001b[39;49m\u001b[43mPyTorchFileWriter\u001b[49m\u001b[43m(\u001b[49m\u001b[38;5;28;43mself\u001b[39;49m\u001b[38;5;241;43m.\u001b[39;49m\u001b[43mname\u001b[49m\u001b[43m)\u001b[49m)\n",
      "\u001b[0;31mRuntimeError\u001b[0m: Parent directory data/models does not exist."
     ]
    }
   ],
   "source": [
    "for ext_it in tqdm(range(ext_its * targ_adv_funs_len)):\n",
    "    cur_exp_id = ext_it // targ_adv_funs_len\n",
    "    cur_f_id = ext_it % targ_adv_funs_len\n",
    "    cur_targ_adv_func = targ_adv_funs[cur_f_id]\n",
    "    cur_seed = seed + cur_exp_id\n",
    "\n",
    "    #env = gym.make(env_name, terminate_when_unhealthy = False)\n",
    "    env = dmc2gym.make(domain_name=domain_name, task_name=task_name, seed=cur_seed)\n",
    "    num_inputs = env.observation_space.shape[0]\n",
    "    num_actions = env.action_space.shape[0]\n",
    "    env.seed(cur_seed)\n",
    "    torch.manual_seed(cur_seed)\n",
    "    agent = ATRPOAgent(num_inputs, num_actions, 128)\n",
    "    val = Value(num_inputs, 128)\n",
    "    val_opt = optim.Adam(val.parameters(), lr=1e-3)\n",
    "    \n",
    "    running_state = ZFilter((num_inputs,), clip=5)\n",
    "    running_reward = ZFilter((1,), demean=False, clip=10)\n",
    "    acc_batch_rewards = []\n",
    "\n",
    "    for i_episode in range(i_episodes):\n",
    "        memory = Memory()\n",
    "\n",
    "        num_steps = 0\n",
    "        reward_batch = 0\n",
    "        num_episodes = 0\n",
    "        while num_steps < batch_size:\n",
    "            state = env.reset()\n",
    "            state = running_state(state)\n",
    "\n",
    "            reward_sum = 0\n",
    "            for t in range(t_steps):\n",
    "                action = agent.act(state)\n",
    "                #action = torch.clamp(action, -1, 1)\n",
    "                #action.type(torch.FloatTensor)\n",
    "                cast_action = torch.tensor(action, dtype=torch.float32)\n",
    "                #print(action, type(action))\n",
    "                cast_action = cast_action.cpu().data.numpy().flatten()\n",
    "                #action = action.data[0].numpy()\n",
    "                #print(action, type(action))\n",
    "                next_state, reward, done, _ = env.step(cast_action)\n",
    "                reward_sum += reward\n",
    "\n",
    "                next_state = running_state(next_state)\n",
    "\n",
    "                mask = 0 if done else 1\n",
    "\n",
    "                memory.push(state, np.array([action.cpu().data[0].numpy()]), mask, next_state, reward)\n",
    "\n",
    "                if render:\n",
    "                    env.render()\n",
    "                if done:\n",
    "                    break\n",
    "\n",
    "                state = next_state\n",
    "            num_steps += (t-1)\n",
    "            num_episodes += 1\n",
    "            reward_batch += reward_sum\n",
    "\n",
    "        reward_batch /= num_episodes\n",
    "        acc_batch_rewards.append(reward_batch)\n",
    "        batch = memory.sample()\n",
    "        for _ in range(2):\n",
    "            vloss , ploss, advs = update_params(batch,cur_targ_adv_func)\n",
    "\n",
    "        if i_episode % log_interval == 0:\n",
    "            print('Episode {}\\tFunc name: {}\\tAverage reward {:.2f}, PLoss {}\\t VLoss {}\\t Advs {}'.format(\n",
    "                i_episode, cur_targ_adv_func.__name__, reward_batch, Average(ploss).item(), Average(vloss).item(),Average(advs).item()))\n",
    "            \n",
    "    save_file=f'{model_file}_{cur_targ_adv_func.__name__}_exp{cur_exp_id}_seed{cur_seed}_iter{i_episodes}'\n",
    "    print(\"Saving model:\", save_file)\n",
    "    torch.save(agent, save_file+'_agent.pt')\n",
    "    torch.save(val, save_file+'_value.pt')\n",
    "\n",
    "    plt.title(cur_targ_adv_func.__name__)\n",
    "\n",
    "    plt.plot(acc_batch_rewards)\n",
    "    plt.show()\n",
    "\n",
    "    all_acc_batch_rewards[cur_f_id].append(acc_batch_rewards)\n",
    "\n",
    "    if targ_adv_funs_len > 1 and compare_plots and cur_f_id == targ_adv_funs_len-1:\n",
    "        plt.title(cur_exp_id)\n",
    "        for i in range(targ_adv_funs_len):\n",
    "            plt.plot(all_acc_batch_rewards[i][-1],label=targ_adv_funs[i].__name__)\n",
    "        plt.legend()\n",
    "        plt.show()\n",
    "    gc.collect(); torch.cuda.empty_cache()"
   ]
  },
  {
   "cell_type": "code",
   "execution_count": 16,
   "id": "bf51135f-16d4-455b-ae01-f3e286e65196",
   "metadata": {},
   "outputs": [
    {
     "data": {
      "image/png": "[encoded data removed]",
      "text/plain": [
       "<Figure size 864x576 with 1 Axes>"
      ]
     },
     "metadata": {},
     "output_type": "display_data"
    }
   ],
   "source": [
    "import matplotlib.pyplot as plt\n",
    "import numpy as np\n",
    "import seaborn as sns\n",
    "#42\n",
    "\n",
    "agent_name = f'{domain_name}_{task_name}_TRPO'\n",
    "\n",
    "\n",
    "sns.set_style(\"darkgrid\")\n",
    "plt.figure(figsize=(12, 8))\n",
    "plt.title(agent_name, size=20)\n",
    "plt.xlabel(\"episodes\", size=20)\n",
    "plt.ylabel(\"rewards\", size=20)\n",
    "plt.plot(acc_batch_rewards)\n",
    "#plt.savefig(f'{plot_directory}{agent_name}')\n",
    "plt.show()"
   ]
  },
  {
   "cell_type": "code",
   "execution_count": null,
   "id": "4eda0742-cb86-43d1-b29e-39c6dc5f809d",
   "metadata": {},
   "outputs": [],
   "source": []
  }
 ],
 "metadata": {
  "kernelspec": {
   "display_name": "Python 3 (ipykernel)",
   "language": "python",
   "name": "python3"
  },
  "language_info": {
   "codemirror_mode": {
    "name": "ipython",
    "version": 3
   },
   "file_extension": ".py",
   "mimetype": "text/x-python",
   "name": "python",
   "nbconvert_exporter": "python",
   "pygments_lexer": "ipython3",
   "version": "3.8.10"
  }
 },
 "nbformat": 4,
 "nbformat_minor": 5
}
